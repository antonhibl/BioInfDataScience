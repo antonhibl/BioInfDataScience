{
 "cells": [
  {
   "cell_type": "markdown",
   "id": "2742a477",
   "metadata": {},
   "source": [
    "<h1><b>Artifact API Practice</b></h1>\n",
    "<h6><i>Anton Hibl, June 10th, 2021</i></h6>\n",
    "\n",
    "<hr><hr>\n",
    "\n",
    "#### <u>The Artifact API & Qiime 2 Introduction</u>\n",
    "\n",
    "The Arifact API is an interface for python3 and Qiime2 which allows for an interactive computation environment in which Qiime2 and it's framework and the programming language of Python3 can interface cohesively.\n",
    "\n",
    "To start off I will load in an `Artifact` which is a feature table; from this I will pass the feature table into Qiime2's plugin `q2-feature-table` which then uses the `rarefy` method to return a new artifact. However the first thing you should do in any notebook or program is load in your necessary modules which I have done below:\n"
   ]
  },
  {
   "cell_type": "code",
   "execution_count": 1,
   "id": "d56e4e27",
   "metadata": {},
   "outputs": [],
   "source": [
    "# Importing necessary modules for general data science\n",
    "%matplotlib inline\n",
    "import numpy as np\n",
    "import pandas as pd\n",
    "import matplotlib as mpl\n",
    "import sklearn, sys, socket, requests\n",
    "import altair as alt\n",
    "import biom, qiime2\n",
    "from qiime2 import Metadata \n",
    "from qiime2.plugins import feature_table, diversity, demux"
   ]
  },
  {
   "cell_type": "markdown",
   "id": "b11dab18",
   "metadata": {},
   "source": [
    "Now I can get started by loading in my feature table:"
   ]
  },
  {
   "cell_type": "code",
   "execution_count": 38,
   "id": "8629da31",
   "metadata": {},
   "outputs": [],
   "source": [
    "''' Utilizing the q2-feature-table plugin & the rarefy method to return a new artifact '''\n",
    "\n",
    "# Loads in feature table artifact\n",
    "unrarefied_table = qiime2.Artifact.load(\"./zipfiles/table.qza\")\n",
    "'''\n",
    "    This next piece of code rarefies the table, this essentially takes subsample frequencies from all samples \n",
    "    so that the sum of frequencies in each sample is equal to the sampling-depth.\n",
    "'''\n",
    "rarefy_result = feature_table.methods.rarefy(table=unrarefied_table, sampling_depth=100)\n",
    "rarefied_table = rarefy_result.rarefied_table"
   ]
  },
  {
   "cell_type": "markdown",
   "id": "80fcf640",
   "metadata": {},
   "source": [
    "While it is reccomended to work with Qiime2 `Artifacts` directly, it is possible to access the underlying data in one or more compatible views (Python objects/data structures or file formats). For an example, dopwn below I will look at the feature table that has now been rarefied and access it as a `biom.Table` object:"
   ]
  },
  {
   "cell_type": "code",
   "execution_count": 41,
   "id": "bed2c935",
   "metadata": {},
   "outputs": [
    {
     "name": "stdout",
     "output_type": "stream",
     "text": [
      "# Constructed from biom file\n",
      "#OTU ID\tBAQ2420.1.1\tBAQ2420.1.2\tBAQ2420.1.3\tBAQ2420.2\tBAQ2420.3\n",
      "409faa5f5353e543bf6d99125c7c0e83\t0.0\t0.0\t0.0\t0.0\t0.0\n",
      "a7b877ae6d2f079a15b6b192a4425620\t0.0\t0.0\t0.0\t4.0\t0.0\n",
      "a36b38f754f6abd278aeb9dbc7696343\t4.0\t0.0\t0.0\t0.0\t4.0\n",
      "1237d5925a7176fced9dda961a86c684\t0.0\t0.0\t2.0\t0.0\t0.0\n",
      "ef3fdbe1dcde754d91130cde6a4b4d61\t0.0\t0.0\t0.0\t0.0\t0.0\n"
     ]
    }
   ],
   "source": [
    "# Creates a variable which holds the view of our rarefied table using biom's Table function\n",
    "biom_table_ex = rarefied_table.view(biom.Table)\n",
    "# now I print out the head of the biom table\n",
    "print(biom_table_ex.head())"
   ]
  },
  {
   "cell_type": "markdown",
   "id": "d1e061c0",
   "metadata": {},
   "source": [
    "It is also totally possible to view this artifact's data as a `pandas.Dataframe` object like below:"
   ]
  },
  {
   "cell_type": "code",
   "execution_count": 42,
   "id": "f8a4ed47",
   "metadata": {},
   "outputs": [
    {
     "data": {
      "text/html": [
       "<div>\n",
       "<style scoped>\n",
       "    .dataframe tbody tr th:only-of-type {\n",
       "        vertical-align: middle;\n",
       "    }\n",
       "\n",
       "    .dataframe tbody tr th {\n",
       "        vertical-align: top;\n",
       "    }\n",
       "\n",
       "    .dataframe thead th {\n",
       "        text-align: right;\n",
       "    }\n",
       "</style>\n",
       "<table border=\"1\" class=\"dataframe\">\n",
       "  <thead>\n",
       "    <tr style=\"text-align: right;\">\n",
       "      <th></th>\n",
       "      <th>409faa5f5353e543bf6d99125c7c0e83</th>\n",
       "      <th>a7b877ae6d2f079a15b6b192a4425620</th>\n",
       "      <th>a36b38f754f6abd278aeb9dbc7696343</th>\n",
       "      <th>1237d5925a7176fced9dda961a86c684</th>\n",
       "      <th>ef3fdbe1dcde754d91130cde6a4b4d61</th>\n",
       "      <th>96cbccca68ad868a78bb0604e4a41cf5</th>\n",
       "      <th>11f7b172e09b77715d3bb2175a40b409</th>\n",
       "      <th>f6c10a04d57159c0d64d6bc30c677471</th>\n",
       "      <th>1694836fc379411d2b9aa087d68d571b</th>\n",
       "      <th>ffd60d684f32e6fd5b47fe90095f9d34</th>\n",
       "      <th>...</th>\n",
       "      <th>45ee2d4ff023d26d4cd0b410a9918ff8</th>\n",
       "      <th>427206321377b8a2a217b4ee92cbed5e</th>\n",
       "      <th>10aa0f26b210fbe3a30fe61801e9a075</th>\n",
       "      <th>86037f00237ac314a58db234198c18b3</th>\n",
       "      <th>c9e32079e7c3e2a804a14ce56dfdcc05</th>\n",
       "      <th>dfec303098a97f8d14ac51318ab6fafb</th>\n",
       "      <th>69c7e02fbef232462ebacf2aea4498b0</th>\n",
       "      <th>fc38276fdb465adf0d4e28f7980f043d</th>\n",
       "      <th>53976595447cfdeb7b839b31dd755525</th>\n",
       "      <th>bbe5779dec14df7e755cb26e51b45ff1</th>\n",
       "    </tr>\n",
       "  </thead>\n",
       "  <tbody>\n",
       "    <tr>\n",
       "      <th>BAQ2420.1.1</th>\n",
       "      <td>0.0</td>\n",
       "      <td>0.0</td>\n",
       "      <td>4.0</td>\n",
       "      <td>0.0</td>\n",
       "      <td>0.0</td>\n",
       "      <td>0.0</td>\n",
       "      <td>0.0</td>\n",
       "      <td>0.0</td>\n",
       "      <td>0.0</td>\n",
       "      <td>0.0</td>\n",
       "      <td>...</td>\n",
       "      <td>0.0</td>\n",
       "      <td>0.0</td>\n",
       "      <td>0.0</td>\n",
       "      <td>0.0</td>\n",
       "      <td>0.0</td>\n",
       "      <td>0.0</td>\n",
       "      <td>0.0</td>\n",
       "      <td>0.0</td>\n",
       "      <td>0.0</td>\n",
       "      <td>0.0</td>\n",
       "    </tr>\n",
       "    <tr>\n",
       "      <th>BAQ2420.1.2</th>\n",
       "      <td>0.0</td>\n",
       "      <td>0.0</td>\n",
       "      <td>0.0</td>\n",
       "      <td>0.0</td>\n",
       "      <td>0.0</td>\n",
       "      <td>0.0</td>\n",
       "      <td>1.0</td>\n",
       "      <td>4.0</td>\n",
       "      <td>0.0</td>\n",
       "      <td>0.0</td>\n",
       "      <td>...</td>\n",
       "      <td>0.0</td>\n",
       "      <td>0.0</td>\n",
       "      <td>0.0</td>\n",
       "      <td>0.0</td>\n",
       "      <td>0.0</td>\n",
       "      <td>0.0</td>\n",
       "      <td>0.0</td>\n",
       "      <td>0.0</td>\n",
       "      <td>0.0</td>\n",
       "      <td>0.0</td>\n",
       "    </tr>\n",
       "    <tr>\n",
       "      <th>BAQ2420.1.3</th>\n",
       "      <td>0.0</td>\n",
       "      <td>0.0</td>\n",
       "      <td>0.0</td>\n",
       "      <td>2.0</td>\n",
       "      <td>0.0</td>\n",
       "      <td>0.0</td>\n",
       "      <td>0.0</td>\n",
       "      <td>0.0</td>\n",
       "      <td>0.0</td>\n",
       "      <td>0.0</td>\n",
       "      <td>...</td>\n",
       "      <td>0.0</td>\n",
       "      <td>0.0</td>\n",
       "      <td>0.0</td>\n",
       "      <td>0.0</td>\n",
       "      <td>0.0</td>\n",
       "      <td>0.0</td>\n",
       "      <td>0.0</td>\n",
       "      <td>0.0</td>\n",
       "      <td>0.0</td>\n",
       "      <td>0.0</td>\n",
       "    </tr>\n",
       "    <tr>\n",
       "      <th>BAQ2420.2</th>\n",
       "      <td>0.0</td>\n",
       "      <td>4.0</td>\n",
       "      <td>0.0</td>\n",
       "      <td>0.0</td>\n",
       "      <td>0.0</td>\n",
       "      <td>0.0</td>\n",
       "      <td>6.0</td>\n",
       "      <td>5.0</td>\n",
       "      <td>0.0</td>\n",
       "      <td>0.0</td>\n",
       "      <td>...</td>\n",
       "      <td>0.0</td>\n",
       "      <td>0.0</td>\n",
       "      <td>0.0</td>\n",
       "      <td>0.0</td>\n",
       "      <td>0.0</td>\n",
       "      <td>0.0</td>\n",
       "      <td>0.0</td>\n",
       "      <td>0.0</td>\n",
       "      <td>0.0</td>\n",
       "      <td>0.0</td>\n",
       "    </tr>\n",
       "    <tr>\n",
       "      <th>BAQ2420.3</th>\n",
       "      <td>0.0</td>\n",
       "      <td>0.0</td>\n",
       "      <td>4.0</td>\n",
       "      <td>0.0</td>\n",
       "      <td>0.0</td>\n",
       "      <td>0.0</td>\n",
       "      <td>0.0</td>\n",
       "      <td>0.0</td>\n",
       "      <td>0.0</td>\n",
       "      <td>0.0</td>\n",
       "      <td>...</td>\n",
       "      <td>0.0</td>\n",
       "      <td>0.0</td>\n",
       "      <td>0.0</td>\n",
       "      <td>0.0</td>\n",
       "      <td>0.0</td>\n",
       "      <td>0.0</td>\n",
       "      <td>0.0</td>\n",
       "      <td>0.0</td>\n",
       "      <td>2.0</td>\n",
       "      <td>0.0</td>\n",
       "    </tr>\n",
       "  </tbody>\n",
       "</table>\n",
       "<p>5 rows × 855 columns</p>\n",
       "</div>"
      ],
      "text/plain": [
       "             409faa5f5353e543bf6d99125c7c0e83  \\\n",
       "BAQ2420.1.1                               0.0   \n",
       "BAQ2420.1.2                               0.0   \n",
       "BAQ2420.1.3                               0.0   \n",
       "BAQ2420.2                                 0.0   \n",
       "BAQ2420.3                                 0.0   \n",
       "\n",
       "             a7b877ae6d2f079a15b6b192a4425620  \\\n",
       "BAQ2420.1.1                               0.0   \n",
       "BAQ2420.1.2                               0.0   \n",
       "BAQ2420.1.3                               0.0   \n",
       "BAQ2420.2                                 4.0   \n",
       "BAQ2420.3                                 0.0   \n",
       "\n",
       "             a36b38f754f6abd278aeb9dbc7696343  \\\n",
       "BAQ2420.1.1                               4.0   \n",
       "BAQ2420.1.2                               0.0   \n",
       "BAQ2420.1.3                               0.0   \n",
       "BAQ2420.2                                 0.0   \n",
       "BAQ2420.3                                 4.0   \n",
       "\n",
       "             1237d5925a7176fced9dda961a86c684  \\\n",
       "BAQ2420.1.1                               0.0   \n",
       "BAQ2420.1.2                               0.0   \n",
       "BAQ2420.1.3                               2.0   \n",
       "BAQ2420.2                                 0.0   \n",
       "BAQ2420.3                                 0.0   \n",
       "\n",
       "             ef3fdbe1dcde754d91130cde6a4b4d61  \\\n",
       "BAQ2420.1.1                               0.0   \n",
       "BAQ2420.1.2                               0.0   \n",
       "BAQ2420.1.3                               0.0   \n",
       "BAQ2420.2                                 0.0   \n",
       "BAQ2420.3                                 0.0   \n",
       "\n",
       "             96cbccca68ad868a78bb0604e4a41cf5  \\\n",
       "BAQ2420.1.1                               0.0   \n",
       "BAQ2420.1.2                               0.0   \n",
       "BAQ2420.1.3                               0.0   \n",
       "BAQ2420.2                                 0.0   \n",
       "BAQ2420.3                                 0.0   \n",
       "\n",
       "             11f7b172e09b77715d3bb2175a40b409  \\\n",
       "BAQ2420.1.1                               0.0   \n",
       "BAQ2420.1.2                               1.0   \n",
       "BAQ2420.1.3                               0.0   \n",
       "BAQ2420.2                                 6.0   \n",
       "BAQ2420.3                                 0.0   \n",
       "\n",
       "             f6c10a04d57159c0d64d6bc30c677471  \\\n",
       "BAQ2420.1.1                               0.0   \n",
       "BAQ2420.1.2                               4.0   \n",
       "BAQ2420.1.3                               0.0   \n",
       "BAQ2420.2                                 5.0   \n",
       "BAQ2420.3                                 0.0   \n",
       "\n",
       "             1694836fc379411d2b9aa087d68d571b  \\\n",
       "BAQ2420.1.1                               0.0   \n",
       "BAQ2420.1.2                               0.0   \n",
       "BAQ2420.1.3                               0.0   \n",
       "BAQ2420.2                                 0.0   \n",
       "BAQ2420.3                                 0.0   \n",
       "\n",
       "             ffd60d684f32e6fd5b47fe90095f9d34  ...  \\\n",
       "BAQ2420.1.1                               0.0  ...   \n",
       "BAQ2420.1.2                               0.0  ...   \n",
       "BAQ2420.1.3                               0.0  ...   \n",
       "BAQ2420.2                                 0.0  ...   \n",
       "BAQ2420.3                                 0.0  ...   \n",
       "\n",
       "             45ee2d4ff023d26d4cd0b410a9918ff8  \\\n",
       "BAQ2420.1.1                               0.0   \n",
       "BAQ2420.1.2                               0.0   \n",
       "BAQ2420.1.3                               0.0   \n",
       "BAQ2420.2                                 0.0   \n",
       "BAQ2420.3                                 0.0   \n",
       "\n",
       "             427206321377b8a2a217b4ee92cbed5e  \\\n",
       "BAQ2420.1.1                               0.0   \n",
       "BAQ2420.1.2                               0.0   \n",
       "BAQ2420.1.3                               0.0   \n",
       "BAQ2420.2                                 0.0   \n",
       "BAQ2420.3                                 0.0   \n",
       "\n",
       "             10aa0f26b210fbe3a30fe61801e9a075  \\\n",
       "BAQ2420.1.1                               0.0   \n",
       "BAQ2420.1.2                               0.0   \n",
       "BAQ2420.1.3                               0.0   \n",
       "BAQ2420.2                                 0.0   \n",
       "BAQ2420.3                                 0.0   \n",
       "\n",
       "             86037f00237ac314a58db234198c18b3  \\\n",
       "BAQ2420.1.1                               0.0   \n",
       "BAQ2420.1.2                               0.0   \n",
       "BAQ2420.1.3                               0.0   \n",
       "BAQ2420.2                                 0.0   \n",
       "BAQ2420.3                                 0.0   \n",
       "\n",
       "             c9e32079e7c3e2a804a14ce56dfdcc05  \\\n",
       "BAQ2420.1.1                               0.0   \n",
       "BAQ2420.1.2                               0.0   \n",
       "BAQ2420.1.3                               0.0   \n",
       "BAQ2420.2                                 0.0   \n",
       "BAQ2420.3                                 0.0   \n",
       "\n",
       "             dfec303098a97f8d14ac51318ab6fafb  \\\n",
       "BAQ2420.1.1                               0.0   \n",
       "BAQ2420.1.2                               0.0   \n",
       "BAQ2420.1.3                               0.0   \n",
       "BAQ2420.2                                 0.0   \n",
       "BAQ2420.3                                 0.0   \n",
       "\n",
       "             69c7e02fbef232462ebacf2aea4498b0  \\\n",
       "BAQ2420.1.1                               0.0   \n",
       "BAQ2420.1.2                               0.0   \n",
       "BAQ2420.1.3                               0.0   \n",
       "BAQ2420.2                                 0.0   \n",
       "BAQ2420.3                                 0.0   \n",
       "\n",
       "             fc38276fdb465adf0d4e28f7980f043d  \\\n",
       "BAQ2420.1.1                               0.0   \n",
       "BAQ2420.1.2                               0.0   \n",
       "BAQ2420.1.3                               0.0   \n",
       "BAQ2420.2                                 0.0   \n",
       "BAQ2420.3                                 0.0   \n",
       "\n",
       "             53976595447cfdeb7b839b31dd755525  \\\n",
       "BAQ2420.1.1                               0.0   \n",
       "BAQ2420.1.2                               0.0   \n",
       "BAQ2420.1.3                               0.0   \n",
       "BAQ2420.2                                 0.0   \n",
       "BAQ2420.3                                 2.0   \n",
       "\n",
       "             bbe5779dec14df7e755cb26e51b45ff1  \n",
       "BAQ2420.1.1                               0.0  \n",
       "BAQ2420.1.2                               0.0  \n",
       "BAQ2420.1.3                               0.0  \n",
       "BAQ2420.2                                 0.0  \n",
       "BAQ2420.3                                 0.0  \n",
       "\n",
       "[5 rows x 855 columns]"
      ]
     },
     "execution_count": 42,
     "metadata": {},
     "output_type": "execute_result"
    }
   ],
   "source": [
    "# Creates a variable holding the view of my rarefied table as a Pandas DataFrame object\n",
    "panda_table_ex = rarefied_table.view(pd.DataFrame)\n",
    "# Shows the head of this panda dataframe object\n",
    "panda_table_ex.head()\n"
   ]
  },
  {
   "cell_type": "markdown",
   "id": "ccddbe2c",
   "metadata": {},
   "source": [
    "A powerful feature of QIIME 2 is that you can export different types of views from QIIME artifacts as illustrated here, then operate on the resulting data types, and import those data back into QIIME. This is useful if there are some operations that are available on the view’s data type (e.g., the pandas.DataFrame) that are not available through the QIIME API. However, a drawback to this is that data provenance os lost in this process as Qiime cannot keep track of what happen to your data outside of it.\n",
    "\n",
    "You can import the `pandas.DataFrame` object into another qiime artifact like so:"
   ]
  },
  {
   "cell_type": "raw",
   "id": "dafdf298",
   "metadata": {},
   "source": [
    "imported_artifact = Artifact.import_data(\"FeatureTable[Frequency]\", df)"
   ]
  },
  {
   "cell_type": "markdown",
   "id": "f9a6a10e",
   "metadata": {},
   "source": [
    "#### <u>Other Qiime2 Plugins </u>\n",
    "My `rarefied_table` artifact can be now utilized within other qiime2 plugins and their methods to create interesting visualizations, transformations, and analyses. Here I will compute the <i>Observed Features alpha diversity metric</i> using the `q2-diversity plugin`. The resulting Artifact will be of type `SampleData[AlphaDiversity]`, and we can access a `pd.Series` as a view of this Artifact:"
   ]
  },
  {
   "cell_type": "code",
   "execution_count": 26,
   "id": "ce1266d7",
   "metadata": {},
   "outputs": [
    {
     "data": {
      "text/plain": [
       "BAQ2420.1.1    29\n",
       "BAQ2420.1.2    28\n",
       "BAQ2420.1.3    23\n",
       "BAQ2420.2      32\n",
       "BAQ2420.3      32\n",
       "BAQ2462.1      29\n",
       "BAQ2462.2      26\n",
       "BAQ2462.3      23\n",
       "BAQ2687.1      26\n",
       "BAQ2687.2      20\n",
       "BAQ2687.3      27\n",
       "BAQ2838.1      20\n",
       "BAQ2838.2      15\n",
       "BAQ2838.3      14\n",
       "BAQ3473.1      30\n",
       "BAQ3473.2      31\n",
       "BAQ3473.3      38\n",
       "BAQ4166.1.1    27\n",
       "BAQ4166.1.2    30\n",
       "BAQ4166.1.3    29\n",
       "BAQ4166.2      34\n",
       "BAQ4166.3      36\n",
       "BAQ4697.1      22\n",
       "BAQ4697.2      26\n",
       "BAQ4697.3      35\n",
       "YUN1005.1.1    20\n",
       "YUN1005.3      19\n",
       "YUN1242.1      15\n",
       "YUN1242.3      18\n",
       "YUN1609.1      17\n",
       "YUN2029.2      23\n",
       "YUN3153.2      22\n",
       "YUN3153.3      21\n",
       "YUN3259.1.2    18\n",
       "YUN3259.1.3    13\n",
       "YUN3259.2      26\n",
       "YUN3259.3      26\n",
       "YUN3346.1      29\n",
       "YUN3346.2       9\n",
       "YUN3346.3      21\n",
       "YUN3428.1      26\n",
       "YUN3428.2      39\n",
       "YUN3428.3      30\n",
       "YUN3533.1.1    24\n",
       "YUN3533.1.2    25\n",
       "YUN3533.1.3    36\n",
       "YUN3533.2      23\n",
       "YUN3533.3      39\n",
       "YUN3856.1.1    24\n",
       "YUN3856.1.2    29\n",
       "YUN3856.1.3    32\n",
       "YUN3856.2      39\n",
       "YUN3856.3      41\n",
       "Name: observed_features, dtype: int64"
      ]
     },
     "execution_count": 26,
     "metadata": {},
     "output_type": "execute_result"
    }
   ],
   "source": [
    "# Creates a variable which holds the computed alpha diversity values which are based on the metric of observed features\n",
    "alpha_result_b3t4 = diversity.pipelines.alpha(table=rarefied_table, metric='observed_features')\n",
    "# Applies the alpha_diversity method to the variable I just made\n",
    "alpha_diversity_ex = alpha_result_b3t4.alpha_diversity\n",
    "# Views the data as a pandas Series\n",
    "alpha_diversity_ex.view(pd.Series)"
   ]
  },
  {
   "cell_type": "markdown",
   "id": "21da1d29",
   "metadata": {},
   "source": [
    "Finally, we can save our `Artifacts` as `.qza` files as follows:"
   ]
  },
  {
   "cell_type": "raw",
   "id": "00f5da40",
   "metadata": {},
   "source": [
    "rarefied_table.save('rare.qza')\n",
    "alpha_diversity_ex.save('obs_features.qza')"
   ]
  },
  {
   "cell_type": "markdown",
   "id": "45fd7655",
   "metadata": {},
   "source": [
    "Another powerful feature of QIIME 2 is that you can combine interfaces. For example, you could develop a Python script that automatically processes files for you to generate results as we just did, and then perform analysis of those files using the command line interface or the QIIME 2 Studio. For instance, you could now continue your analysis and view some results on the command line as follows:"
   ]
  },
  {
   "cell_type": "raw",
   "id": "21aa5954",
   "metadata": {},
   "source": [
    "qiime diversity alpha-group-significance --i-alpha-diversity obs_features.qza --m-metadata-file sample-metadata.tsv  --o-visualization obs-f-group-significance.qzv"
   ]
  },
  {
   "cell_type": "markdown",
   "id": "ea780371",
   "metadata": {},
   "source": [
    "The above commands as an API call in Artifact:"
   ]
  },
  {
   "cell_type": "code",
   "execution_count": 30,
   "id": "259329e3",
   "metadata": {},
   "outputs": [],
   "source": [
    "metadata = Metadata.load('sample-metadata.tsv')\n",
    "group_significance = diversity.actions.alpha_group_significance(alpha_diversity=alpha_diversity_ex, metadata=metadata)"
   ]
  },
  {
   "cell_type": "markdown",
   "id": "01e897c8",
   "metadata": {},
   "source": [
    "<hr>\n",
    "\n",
    "# Altair Practice\n",
    "\n",
    "Data in Altair is built around the Pandas `DataFrame`. One of the defining characteristics of statistical visualization is that it begins with tidy `DataFrames`. This will work perfect with Qiime as the `Artifact API` allows pandas `DataFrame` objects to be quite versatile."
   ]
  },
  {
   "cell_type": "code",
   "execution_count": 20,
   "id": "0af890c4",
   "metadata": {},
   "outputs": [
    {
     "data": {
      "text/html": [
       "\n",
       "<div id=\"altair-viz-36681af437044d0b81e7a8383feba478\"></div>\n",
       "<script type=\"text/javascript\">\n",
       "  (function(spec, embedOpt){\n",
       "    let outputDiv = document.currentScript.previousElementSibling;\n",
       "    if (outputDiv.id !== \"altair-viz-36681af437044d0b81e7a8383feba478\") {\n",
       "      outputDiv = document.getElementById(\"altair-viz-36681af437044d0b81e7a8383feba478\");\n",
       "    }\n",
       "    const paths = {\n",
       "      \"vega\": \"https://cdn.jsdelivr.net/npm//vega@5?noext\",\n",
       "      \"vega-lib\": \"https://cdn.jsdelivr.net/npm//vega-lib?noext\",\n",
       "      \"vega-lite\": \"https://cdn.jsdelivr.net/npm//vega-lite@4.8.1?noext\",\n",
       "      \"vega-embed\": \"https://cdn.jsdelivr.net/npm//vega-embed@6?noext\",\n",
       "    };\n",
       "\n",
       "    function loadScript(lib) {\n",
       "      return new Promise(function(resolve, reject) {\n",
       "        var s = document.createElement('script');\n",
       "        s.src = paths[lib];\n",
       "        s.async = true;\n",
       "        s.onload = () => resolve(paths[lib]);\n",
       "        s.onerror = () => reject(`Error loading script: ${paths[lib]}`);\n",
       "        document.getElementsByTagName(\"head\")[0].appendChild(s);\n",
       "      });\n",
       "    }\n",
       "\n",
       "    function showError(err) {\n",
       "      outputDiv.innerHTML = `<div class=\"error\" style=\"color:red;\">${err}</div>`;\n",
       "      throw err;\n",
       "    }\n",
       "\n",
       "    function displayChart(vegaEmbed) {\n",
       "      vegaEmbed(outputDiv, spec, embedOpt)\n",
       "        .catch(err => showError(`Javascript Error: ${err.message}<br>This usually means there's a typo in your chart specification. See the javascript console for the full traceback.`));\n",
       "    }\n",
       "\n",
       "    if(typeof define === \"function\" && define.amd) {\n",
       "      requirejs.config({paths});\n",
       "      require([\"vega-embed\"], displayChart, err => showError(`Error loading script: ${err.message}`));\n",
       "    } else if (typeof vegaEmbed === \"function\") {\n",
       "      displayChart(vegaEmbed);\n",
       "    } else {\n",
       "      loadScript(\"vega\")\n",
       "        .then(() => loadScript(\"vega-lite\"))\n",
       "        .then(() => loadScript(\"vega-embed\"))\n",
       "        .catch(showError)\n",
       "        .then(() => displayChart(vegaEmbed));\n",
       "    }\n",
       "  })({\"config\": {\"view\": {\"continuousWidth\": 400, \"continuousHeight\": 300}}, \"data\": {\"name\": \"data-347f1284ea3247c0f55cb966abbdd2d8\"}, \"mark\": \"point\", \"$schema\": \"https://vega.github.io/schema/vega-lite/v4.8.1.json\", \"datasets\": {\"data-347f1284ea3247c0f55cb966abbdd2d8\": [{\"a\": \"C\", \"b\": 2}, {\"a\": \"C\", \"b\": 7}, {\"a\": \"C\", \"b\": 4}, {\"a\": \"D\", \"b\": 1}, {\"a\": \"D\", \"b\": 2}, {\"a\": \"D\", \"b\": 6}, {\"a\": \"E\", \"b\": 8}, {\"a\": \"E\", \"b\": 4}, {\"a\": \"E\", \"b\": 7}]}}, {\"mode\": \"vega-lite\"});\n",
       "</script>"
      ],
      "text/plain": [
       "alt.Chart(...)"
      ]
     },
     "execution_count": 20,
     "metadata": {},
     "output_type": "execute_result"
    }
   ],
   "source": [
    "# Generate some mock data with pandas as pd in the form of a dictionary of arrays\n",
    "data = pd.DataFrame({'a': list('CCCDDDEEE'),              # a is mapped to a list created from a string of characters\n",
    "                     'b': [2, 7, 4, 1, 2, 6, 8, 4, 7]})   # b is mapped to a list of integers\n",
    "\n",
    "# Chart this data with altair and mark a point on it with another altair method\n",
    "chart = alt.Chart(data)      # charts the data\n",
    "alt.Chart(data).mark_point() # marks and displays all points on one axis thus making one point"
   ]
  },
  {
   "cell_type": "markdown",
   "id": "02bd73f7",
   "metadata": {},
   "source": [
    "This problem of the one axis can be addressed by using the `.encode()` method in parallel with the `.mark_point()` method(I can exchange this with lines and bars as well as is demonstrated down below) and specifying which variables are arranged on which axis:"
   ]
  },
  {
   "cell_type": "code",
   "execution_count": 21,
   "id": "58c05d28",
   "metadata": {},
   "outputs": [
    {
     "data": {
      "text/html": [
       "\n",
       "<div id=\"altair-viz-aea3e14b725e49e1a1bb9a6988db618e\"></div>\n",
       "<script type=\"text/javascript\">\n",
       "  (function(spec, embedOpt){\n",
       "    let outputDiv = document.currentScript.previousElementSibling;\n",
       "    if (outputDiv.id !== \"altair-viz-aea3e14b725e49e1a1bb9a6988db618e\") {\n",
       "      outputDiv = document.getElementById(\"altair-viz-aea3e14b725e49e1a1bb9a6988db618e\");\n",
       "    }\n",
       "    const paths = {\n",
       "      \"vega\": \"https://cdn.jsdelivr.net/npm//vega@5?noext\",\n",
       "      \"vega-lib\": \"https://cdn.jsdelivr.net/npm//vega-lib?noext\",\n",
       "      \"vega-lite\": \"https://cdn.jsdelivr.net/npm//vega-lite@4.8.1?noext\",\n",
       "      \"vega-embed\": \"https://cdn.jsdelivr.net/npm//vega-embed@6?noext\",\n",
       "    };\n",
       "\n",
       "    function loadScript(lib) {\n",
       "      return new Promise(function(resolve, reject) {\n",
       "        var s = document.createElement('script');\n",
       "        s.src = paths[lib];\n",
       "        s.async = true;\n",
       "        s.onload = () => resolve(paths[lib]);\n",
       "        s.onerror = () => reject(`Error loading script: ${paths[lib]}`);\n",
       "        document.getElementsByTagName(\"head\")[0].appendChild(s);\n",
       "      });\n",
       "    }\n",
       "\n",
       "    function showError(err) {\n",
       "      outputDiv.innerHTML = `<div class=\"error\" style=\"color:red;\">${err}</div>`;\n",
       "      throw err;\n",
       "    }\n",
       "\n",
       "    function displayChart(vegaEmbed) {\n",
       "      vegaEmbed(outputDiv, spec, embedOpt)\n",
       "        .catch(err => showError(`Javascript Error: ${err.message}<br>This usually means there's a typo in your chart specification. See the javascript console for the full traceback.`));\n",
       "    }\n",
       "\n",
       "    if(typeof define === \"function\" && define.amd) {\n",
       "      requirejs.config({paths});\n",
       "      require([\"vega-embed\"], displayChart, err => showError(`Error loading script: ${err.message}`));\n",
       "    } else if (typeof vegaEmbed === \"function\") {\n",
       "      displayChart(vegaEmbed);\n",
       "    } else {\n",
       "      loadScript(\"vega\")\n",
       "        .then(() => loadScript(\"vega-lite\"))\n",
       "        .then(() => loadScript(\"vega-embed\"))\n",
       "        .catch(showError)\n",
       "        .then(() => displayChart(vegaEmbed));\n",
       "    }\n",
       "  })({\"config\": {\"view\": {\"continuousWidth\": 400, \"continuousHeight\": 300}}, \"data\": {\"name\": \"data-347f1284ea3247c0f55cb966abbdd2d8\"}, \"mark\": \"point\", \"encoding\": {\"x\": {\"type\": \"nominal\", \"field\": \"a\"}, \"y\": {\"type\": \"quantitative\", \"field\": \"b\"}}, \"$schema\": \"https://vega.github.io/schema/vega-lite/v4.8.1.json\", \"datasets\": {\"data-347f1284ea3247c0f55cb966abbdd2d8\": [{\"a\": \"C\", \"b\": 2}, {\"a\": \"C\", \"b\": 7}, {\"a\": \"C\", \"b\": 4}, {\"a\": \"D\", \"b\": 1}, {\"a\": \"D\", \"b\": 2}, {\"a\": \"D\", \"b\": 6}, {\"a\": \"E\", \"b\": 8}, {\"a\": \"E\", \"b\": 4}, {\"a\": \"E\", \"b\": 7}]}}, {\"mode\": \"vega-lite\"});\n",
       "</script>"
      ],
      "text/plain": [
       "alt.Chart(...)"
      ]
     },
     "execution_count": 21,
     "metadata": {},
     "output_type": "execute_result"
    }
   ],
   "source": [
    "alt.Chart(data).mark_point().encode(\n",
    "    x='a',\n",
    "    y='b'\n",
    ")"
   ]
  },
  {
   "cell_type": "markdown",
   "id": "fe2874c0",
   "metadata": {},
   "source": [
    "With bars:"
   ]
  },
  {
   "cell_type": "code",
   "execution_count": 22,
   "id": "d9047304",
   "metadata": {},
   "outputs": [
    {
     "data": {
      "text/html": [
       "\n",
       "<div id=\"altair-viz-741dfc0d070148ffa0603505aa825064\"></div>\n",
       "<script type=\"text/javascript\">\n",
       "  (function(spec, embedOpt){\n",
       "    let outputDiv = document.currentScript.previousElementSibling;\n",
       "    if (outputDiv.id !== \"altair-viz-741dfc0d070148ffa0603505aa825064\") {\n",
       "      outputDiv = document.getElementById(\"altair-viz-741dfc0d070148ffa0603505aa825064\");\n",
       "    }\n",
       "    const paths = {\n",
       "      \"vega\": \"https://cdn.jsdelivr.net/npm//vega@5?noext\",\n",
       "      \"vega-lib\": \"https://cdn.jsdelivr.net/npm//vega-lib?noext\",\n",
       "      \"vega-lite\": \"https://cdn.jsdelivr.net/npm//vega-lite@4.8.1?noext\",\n",
       "      \"vega-embed\": \"https://cdn.jsdelivr.net/npm//vega-embed@6?noext\",\n",
       "    };\n",
       "\n",
       "    function loadScript(lib) {\n",
       "      return new Promise(function(resolve, reject) {\n",
       "        var s = document.createElement('script');\n",
       "        s.src = paths[lib];\n",
       "        s.async = true;\n",
       "        s.onload = () => resolve(paths[lib]);\n",
       "        s.onerror = () => reject(`Error loading script: ${paths[lib]}`);\n",
       "        document.getElementsByTagName(\"head\")[0].appendChild(s);\n",
       "      });\n",
       "    }\n",
       "\n",
       "    function showError(err) {\n",
       "      outputDiv.innerHTML = `<div class=\"error\" style=\"color:red;\">${err}</div>`;\n",
       "      throw err;\n",
       "    }\n",
       "\n",
       "    function displayChart(vegaEmbed) {\n",
       "      vegaEmbed(outputDiv, spec, embedOpt)\n",
       "        .catch(err => showError(`Javascript Error: ${err.message}<br>This usually means there's a typo in your chart specification. See the javascript console for the full traceback.`));\n",
       "    }\n",
       "\n",
       "    if(typeof define === \"function\" && define.amd) {\n",
       "      requirejs.config({paths});\n",
       "      require([\"vega-embed\"], displayChart, err => showError(`Error loading script: ${err.message}`));\n",
       "    } else if (typeof vegaEmbed === \"function\") {\n",
       "      displayChart(vegaEmbed);\n",
       "    } else {\n",
       "      loadScript(\"vega\")\n",
       "        .then(() => loadScript(\"vega-lite\"))\n",
       "        .then(() => loadScript(\"vega-embed\"))\n",
       "        .catch(showError)\n",
       "        .then(() => displayChart(vegaEmbed));\n",
       "    }\n",
       "  })({\"config\": {\"view\": {\"continuousWidth\": 400, \"continuousHeight\": 300}}, \"data\": {\"name\": \"data-347f1284ea3247c0f55cb966abbdd2d8\"}, \"mark\": \"bar\", \"encoding\": {\"x\": {\"type\": \"nominal\", \"field\": \"a\"}, \"y\": {\"type\": \"quantitative\", \"field\": \"b\"}}, \"$schema\": \"https://vega.github.io/schema/vega-lite/v4.8.1.json\", \"datasets\": {\"data-347f1284ea3247c0f55cb966abbdd2d8\": [{\"a\": \"C\", \"b\": 2}, {\"a\": \"C\", \"b\": 7}, {\"a\": \"C\", \"b\": 4}, {\"a\": \"D\", \"b\": 1}, {\"a\": \"D\", \"b\": 2}, {\"a\": \"D\", \"b\": 6}, {\"a\": \"E\", \"b\": 8}, {\"a\": \"E\", \"b\": 4}, {\"a\": \"E\", \"b\": 7}]}}, {\"mode\": \"vega-lite\"});\n",
       "</script>"
      ],
      "text/plain": [
       "alt.Chart(...)"
      ]
     },
     "execution_count": 22,
     "metadata": {},
     "output_type": "execute_result"
    }
   ],
   "source": [
    "alt.Chart(data).mark_bar().encode(\n",
    "    x='a',\n",
    "    y='b'\n",
    ")"
   ]
  },
  {
   "cell_type": "markdown",
   "id": "466645e3",
   "metadata": {},
   "source": [
    "With lines and an an averaged dataset for the y-axis(`b` in the pandas `dataframe`/`dictionary`:"
   ]
  },
  {
   "cell_type": "code",
   "execution_count": 23,
   "id": "8a030986",
   "metadata": {},
   "outputs": [
    {
     "data": {
      "text/html": [
       "\n",
       "<div id=\"altair-viz-eba991153398449c93ef235a512f1ed8\"></div>\n",
       "<script type=\"text/javascript\">\n",
       "  (function(spec, embedOpt){\n",
       "    let outputDiv = document.currentScript.previousElementSibling;\n",
       "    if (outputDiv.id !== \"altair-viz-eba991153398449c93ef235a512f1ed8\") {\n",
       "      outputDiv = document.getElementById(\"altair-viz-eba991153398449c93ef235a512f1ed8\");\n",
       "    }\n",
       "    const paths = {\n",
       "      \"vega\": \"https://cdn.jsdelivr.net/npm//vega@5?noext\",\n",
       "      \"vega-lib\": \"https://cdn.jsdelivr.net/npm//vega-lib?noext\",\n",
       "      \"vega-lite\": \"https://cdn.jsdelivr.net/npm//vega-lite@4.8.1?noext\",\n",
       "      \"vega-embed\": \"https://cdn.jsdelivr.net/npm//vega-embed@6?noext\",\n",
       "    };\n",
       "\n",
       "    function loadScript(lib) {\n",
       "      return new Promise(function(resolve, reject) {\n",
       "        var s = document.createElement('script');\n",
       "        s.src = paths[lib];\n",
       "        s.async = true;\n",
       "        s.onload = () => resolve(paths[lib]);\n",
       "        s.onerror = () => reject(`Error loading script: ${paths[lib]}`);\n",
       "        document.getElementsByTagName(\"head\")[0].appendChild(s);\n",
       "      });\n",
       "    }\n",
       "\n",
       "    function showError(err) {\n",
       "      outputDiv.innerHTML = `<div class=\"error\" style=\"color:red;\">${err}</div>`;\n",
       "      throw err;\n",
       "    }\n",
       "\n",
       "    function displayChart(vegaEmbed) {\n",
       "      vegaEmbed(outputDiv, spec, embedOpt)\n",
       "        .catch(err => showError(`Javascript Error: ${err.message}<br>This usually means there's a typo in your chart specification. See the javascript console for the full traceback.`));\n",
       "    }\n",
       "\n",
       "    if(typeof define === \"function\" && define.amd) {\n",
       "      requirejs.config({paths});\n",
       "      require([\"vega-embed\"], displayChart, err => showError(`Error loading script: ${err.message}`));\n",
       "    } else if (typeof vegaEmbed === \"function\") {\n",
       "      displayChart(vegaEmbed);\n",
       "    } else {\n",
       "      loadScript(\"vega\")\n",
       "        .then(() => loadScript(\"vega-lite\"))\n",
       "        .then(() => loadScript(\"vega-embed\"))\n",
       "        .catch(showError)\n",
       "        .then(() => displayChart(vegaEmbed));\n",
       "    }\n",
       "  })({\"config\": {\"view\": {\"continuousWidth\": 400, \"continuousHeight\": 300}}, \"data\": {\"name\": \"data-347f1284ea3247c0f55cb966abbdd2d8\"}, \"mark\": \"line\", \"encoding\": {\"x\": {\"type\": \"nominal\", \"field\": \"a\"}, \"y\": {\"type\": \"quantitative\", \"aggregate\": \"average\", \"field\": \"b\"}}, \"$schema\": \"https://vega.github.io/schema/vega-lite/v4.8.1.json\", \"datasets\": {\"data-347f1284ea3247c0f55cb966abbdd2d8\": [{\"a\": \"C\", \"b\": 2}, {\"a\": \"C\", \"b\": 7}, {\"a\": \"C\", \"b\": 4}, {\"a\": \"D\", \"b\": 1}, {\"a\": \"D\", \"b\": 2}, {\"a\": \"D\", \"b\": 6}, {\"a\": \"E\", \"b\": 8}, {\"a\": \"E\", \"b\": 4}, {\"a\": \"E\", \"b\": 7}]}}, {\"mode\": \"vega-lite\"});\n",
       "</script>"
      ],
      "text/plain": [
       "alt.Chart(...)"
      ]
     },
     "execution_count": 23,
     "metadata": {},
     "output_type": "execute_result"
    }
   ],
   "source": [
    "# creates a 'chart_ex' variable to hold the line plot\n",
    "chart_ex = alt.Chart(data).mark_line().encode(\n",
    "    x='a',\n",
    "    y='average(b)'\n",
    ")\n",
    "\n",
    "# shows chart\n",
    "alt.Chart(data).mark_line().encode(\n",
    "    x='a',\n",
    "    y='average(b)'\n",
    ")"
   ]
  },
  {
   "cell_type": "code",
   "execution_count": 50,
   "id": "58922091",
   "metadata": {},
   "outputs": [
    {
     "name": "stdout",
     "output_type": "stream",
     "text": [
      "{\n",
      "  \"$schema\": \"https://vega.github.io/schema/vega-lite/v4.8.1.json\",\n",
      "  \"config\": {\n",
      "    \"view\": {\n",
      "      \"continuousHeight\": 300,\n",
      "      \"continuousWidth\": 400\n",
      "    }\n",
      "  },\n",
      "  \"data\": {\n",
      "    \"name\": \"data-347f1284ea3247c0f55cb966abbdd2d8\"\n",
      "  },\n",
      "  \"datasets\": {\n",
      "    \"data-347f1284ea3247c0f55cb966abbdd2d8\": [\n",
      "      {\n",
      "        \"a\": \"C\",\n",
      "        \"b\": 2\n",
      "      },\n",
      "      {\n",
      "        \"a\": \"C\",\n",
      "        \"b\": 7\n",
      "      },\n",
      "      {\n",
      "        \"a\": \"C\",\n",
      "        \"b\": 4\n",
      "      },\n",
      "      {\n",
      "        \"a\": \"D\",\n",
      "        \"b\": 1\n",
      "      },\n",
      "      {\n",
      "        \"a\": \"D\",\n",
      "        \"b\": 2\n",
      "      },\n",
      "      {\n",
      "        \"a\": \"D\",\n",
      "        \"b\": 6\n",
      "      },\n",
      "      {\n",
      "        \"a\": \"E\",\n",
      "        \"b\": 8\n",
      "      },\n",
      "      {\n",
      "        \"a\": \"E\",\n",
      "        \"b\": 4\n",
      "      },\n",
      "      {\n",
      "        \"a\": \"E\",\n",
      "        \"b\": 7\n",
      "      }\n",
      "    ]\n",
      "  },\n",
      "  \"encoding\": {\n",
      "    \"x\": {\n",
      "      \"field\": \"a\",\n",
      "      \"type\": \"nominal\"\n",
      "    },\n",
      "    \"y\": {\n",
      "      \"aggregate\": \"average\",\n",
      "      \"field\": \"b\",\n",
      "      \"type\": \"quantitative\"\n",
      "    }\n",
      "  },\n",
      "  \"mark\": \"line\"\n",
      "}\n"
     ]
    }
   ],
   "source": [
    "print(chart_ex.to_json())"
   ]
  },
  {
   "cell_type": "markdown",
   "id": "b8be8971",
   "metadata": {},
   "source": [
    "### Qiime Artifact Workflow Practice\n",
    "Below I use the `summarize` visualization method from `demux`, a qiime2 plugin which helps hadnle demultiplexed data:"
   ]
  },
  {
   "cell_type": "code",
   "execution_count": 25,
   "id": "88d1040d",
   "metadata": {},
   "outputs": [
    {
     "data": {
      "text/plain": [
       "<Figure size 432x288 with 0 Axes>"
      ]
     },
     "metadata": {},
     "output_type": "display_data"
    }
   ],
   "source": [
    "#Inputting another qiime2 plugin\n",
    "from qiime2.plugins.demux.visualizers import summarize\n",
    "\n",
    "\n",
    "# Loading a demultiplexed data artifact\n",
    "demux_ex = qiime2.Artifact.load(\"zipfiles/demux-full.qza\")\n",
    "\n",
    "# uses demux's sumamrize method to visualize the data and make some assessments\n",
    "summarized_demux_dat, = summarize(demux_ex)"
   ]
  },
  {
   "cell_type": "code",
   "execution_count": 26,
   "id": "fdeaae84",
   "metadata": {
    "scrolled": true
   },
   "outputs": [
    {
     "data": {
      "text/html": [
       "<div><img onload=\"(function(div, url){\n",
       "if (typeof require !== 'undefined') {\n",
       "    var baseURL = require.toUrl('').split('/').slice(0, -2).join('/');\n",
       "} else {\n",
       "    var baseURL = JSON.parse(\n",
       "        document.getElementById('jupyter-config-data').innerHTML\n",
       "    ).baseUrl.slice(0, -1);\n",
       "}\n",
       "url = baseURL + url;\n",
       "fetch(url).then(function(res) {\n",
       "    if (res.status === 404) {\n",
       "        div.innerHTML = 'Install QIIME 2 Jupyter extension with:<br />' +\n",
       "                        '<code>jupyter serverextension enable --py qiime2' +\n",
       "                        ' --sys-prefix</code><br />then restart your server.' +\n",
       "                        '<br /><br />(Interactive output not available on ' +\n",
       "                        'static notebook viewer services like nbviewer.)';\n",
       "    } else if (res.status === 409) {\n",
       "        div.innerHTML = 'Visualization no longer in scope. Re-run this cell' +\n",
       "                        ' to see the visualization.';\n",
       "    } else if (res.ok) {\n",
       "        url = res.url;\n",
       "        div.innerHTML = '<iframe src=\\'' + url + '\\' style=\\'' +\n",
       "                        'width: 100%; height: 700px; border: 0;\\'>' +\n",
       "                        '</iframe><hr />Open in a: <a href=\\'' + url + '\\'' +\n",
       "                        ' target=\\'_blank\\'>new window</a>'\n",
       "    } else {\n",
       "        div.innerHTML = 'Something has gone wrong. Check notebook server for' +\n",
       "                        ' errors.';\n",
       "    }\n",
       "});\n",
       "})(this.parentElement, '/qiime2/redirect?location=/tmp/qiime2-archive-6y8zbiv3')\" src=\"data:image/gif;base64,R0lGODlhAQABAIAAAP///wAAACH5BAEAAAAALAAAAAABAAEAAAICRAEAOw==\" /></div>"
      ],
      "text/plain": [
       "<visualization: Visualization uuid: a0791e7f-92f7-47c4-b2da-edf1767d8407>"
      ]
     },
     "execution_count": 26,
     "metadata": {},
     "output_type": "execute_result"
    }
   ],
   "source": [
    "# Calls for the visualization\n",
    "summarized_demux_dat"
   ]
  },
  {
   "cell_type": "markdown",
   "id": "cfcd7d26",
   "metadata": {},
   "source": [
    "Now I will use qiime2's `diversity` plugin to  make a better analysis of the demultiplexed data's diversity metrics, as well as the `alpha` method from `diversity`:"
   ]
  },
  {
   "cell_type": "code",
   "execution_count": 76,
   "id": "c27c0466",
   "metadata": {},
   "outputs": [],
   "source": [
    "# Import the necessary plug-ins\n",
    "from qiime2.plugins import diversity\n",
    "from qiime2.plugins.feature_table.visualizers import heatmap\n",
    "\n",
    "# Load in my feature table artifact\n",
    "prealph_demux_ft = qiime2.Artifact.load('zipfiles/table.qza')\n",
    "# Apply the alpha method to calculate some alpha diversity metrics\n",
    "alpha_result_ex, = diversity.pipelines.alpha(table=prealph_demux_ft, metric='observed_features')\n"
   ]
  },
  {
   "cell_type": "markdown",
   "id": "bba1837f",
   "metadata": {},
   "source": [
    "Seperating these cells allows for the pipeline to not have to be re-run every time we would like to see the visualization, the only recurring loading is of meta-data to ensure it is up to date with the whole data set:"
   ]
  },
  {
   "cell_type": "code",
   "execution_count": 77,
   "id": "1f42cae3",
   "metadata": {},
   "outputs": [
    {
     "data": {
      "text/html": [
       "<div><img onload=\"(function(div, url){\n",
       "if (typeof require !== 'undefined') {\n",
       "    var baseURL = require.toUrl('').split('/').slice(0, -2).join('/');\n",
       "} else {\n",
       "    var baseURL = JSON.parse(\n",
       "        document.getElementById('jupyter-config-data').innerHTML\n",
       "    ).baseUrl.slice(0, -1);\n",
       "}\n",
       "url = baseURL + url;\n",
       "fetch(url).then(function(res) {\n",
       "    if (res.status === 404) {\n",
       "        div.innerHTML = 'Install QIIME 2 Jupyter extension with:<br />' +\n",
       "                        '<code>jupyter serverextension enable --py qiime2' +\n",
       "                        ' --sys-prefix</code><br />then restart your server.' +\n",
       "                        '<br /><br />(Interactive output not available on ' +\n",
       "                        'static notebook viewer services like nbviewer.)';\n",
       "    } else if (res.status === 409) {\n",
       "        div.innerHTML = 'Visualization no longer in scope. Re-run this cell' +\n",
       "                        ' to see the visualization.';\n",
       "    } else if (res.ok) {\n",
       "        url = res.url;\n",
       "        div.innerHTML = '<iframe src=\\'' + url + '\\' style=\\'' +\n",
       "                        'width: 100%; height: 700px; border: 0;\\'>' +\n",
       "                        '</iframe><hr />Open in a: <a href=\\'' + url + '\\'' +\n",
       "                        ' target=\\'_blank\\'>new window</a>'\n",
       "    } else {\n",
       "        div.innerHTML = 'Something has gone wrong. Check notebook server for' +\n",
       "                        ' errors.';\n",
       "    }\n",
       "});\n",
       "})(this.parentElement, '/qiime2/redirect?location=/tmp/qiime2-archive-w0x3_wej')\" src=\"data:image/gif;base64,R0lGODlhAQABAIAAAP///wAAACH5BAEAAAAALAAAAAABAAEAAAICRAEAOw==\" /></div>"
      ],
      "text/plain": [
       "<visualization: Visualization uuid: dd8e2eb4-12ec-45e0-be91-86c19e950bea>"
      ]
     },
     "execution_count": 77,
     "metadata": {},
     "output_type": "execute_result"
    }
   ],
   "source": [
    "# Load my samples meta-data\n",
    "meta_ex = Metadata.load('sample-metadata.tsv')\n",
    "# Create a visualization of some of the correlations in the newly defined data set\n",
    "alph_corr_ex, = diversity.visualizers.alpha_correlation(alpha_result_ex, meta_ex)\n",
    "# Call for the visualization\n",
    "alph_corr_ex"
   ]
  },
  {
   "cell_type": "code",
   "execution_count": null,
   "id": "90068190",
   "metadata": {},
   "outputs": [],
   "source": []
  }
 ],
 "metadata": {
  "kernelspec": {
   "display_name": "Python 3",
   "language": "python",
   "name": "python3"
  },
  "language_info": {
   "codemirror_mode": {
    "name": "ipython",
    "version": 3
   },
   "file_extension": ".py",
   "mimetype": "text/x-python",
   "name": "python",
   "nbconvert_exporter": "python",
   "pygments_lexer": "ipython3",
   "version": "3.8.8"
  }
 },
 "nbformat": 4,
 "nbformat_minor": 5
}
